{
 "cells": [
  {
   "cell_type": "markdown",
   "source": [
    "# Summer Olympics Data Analysis Assignment"
   ],
   "metadata": {}
  },
  {
   "cell_type": "markdown",
   "source": [
    "### 1. In how many cities Summer Olympics is held so far?"
   ],
   "metadata": {}
  },
  {
   "cell_type": "code",
   "execution_count": null,
   "source": [
    "import pandas as pd\r\n",
    "\r\n",
    "df=pd.read_csv(\"summer.csv\")\r\n",
    "\r\n",
    "print(len(df[\"City\"].unique()))\r\n",
    "\r\n",
    "# Answer = 22"
   ],
   "outputs": [],
   "metadata": {}
  },
  {
   "cell_type": "markdown",
   "source": [
    "### 2. Which sport is having most number of Gold Medals so far? (Top 5)"
   ],
   "metadata": {}
  },
  {
   "cell_type": "code",
   "execution_count": null,
   "source": [
    "import pandas as pd\r\n",
    "\r\n",
    "data=pd.read_csv(\"summer.csv\")\r\n",
    "\r\n",
    "data1=pd.DataFrame(df[df[\"Medal\"]==\"Gold\"]) \r\n",
    "\r\n",
    "list1=[]\r\n",
    "\r\n",
    "for sp in data1[\"Sport\"].unique():\r\n",
    "  list1.append([sp,len(data1[data1[\"Sport\"]==sp])])\r\n",
    "\r\n",
    "data2=pd.DataFrame(list1,columns=[\"Sport\",\"num\"])\r\n",
    "\r\n",
    "data2=data2.sort_values(by=\"num\",ascending=False).head()\r\n",
    "\r\n",
    "data2.plot(x=\"Sport\",y=\"num\",kind=\"bar\",figsize=(5,5))\r\n",
    "\r\n",
    "\r\n",
    "# Aquatics \t 1421\r\n",
    "# Athletics  1215\r\n",
    "# Rowing \t 890\r\n",
    "# Gymnastics 820\r\n",
    "# Fencing \t 552"
   ],
   "outputs": [],
   "metadata": {}
  },
  {
   "cell_type": "markdown",
   "source": [
    "### 3. Which sport is having most number of medals so far? (Top 5)"
   ],
   "metadata": {}
  },
  {
   "cell_type": "code",
   "execution_count": null,
   "source": [
    "import pandas as pd\r\n",
    "\r\n",
    "df=pd.read_csv(\"summer.csv\")\r\n",
    "\r\n",
    "list1=[]\r\n",
    "\r\n",
    "\r\n",
    "for sp in df[\"Sport\"].unique():\r\n",
    "  list1.append([sp,len(df[df[\"Sport\"]==sp])])\r\n",
    "\r\n",
    "data1=pd.DataFrame(list1,columns=[\"Sport\",\"Medals\"])\r\n",
    "\r\n",
    "\r\n",
    "\r\n",
    "data1=data1.sort_values(by=\"Medals\",ascending=False).head()\r\n",
    "\r\n",
    "data1.plot(x=\"Sport\",y=\"Medals\",kind=\"bar\",figsize=(5,5))\r\n",
    "\r\n",
    "\r\n",
    "\r\n",
    "#  Aquatics   4170\r\n",
    "#  Athletics  3638\r\n",
    "#  Rowing     2667\r\n",
    "#  Gymnastics 2307\r\n",
    "#  Fencing    1613"
   ],
   "outputs": [],
   "metadata": {}
  },
  {
   "cell_type": "markdown",
   "source": [
    "### 4. Which player has won most number of medals? (Top 5)"
   ],
   "metadata": {}
  },
  {
   "cell_type": "code",
   "execution_count": null,
   "source": [
    "import pandas as pd\r\n",
    "\r\n",
    "df=pd.read_csv(\"summer.csv\")\r\n",
    "\r\n",
    "\r\n",
    "list1=[]\r\n",
    "\r\n",
    "\r\n",
    "for sp in df[\"Athlete\"].unique():\r\n",
    "  list1.append([sp,len(df[df[\"Athlete\"]==sp])])\r\n",
    "\r\n",
    "data1=pd.DataFrame(list1,columns=[\"Athlete\",\"Medals\"])\r\n",
    "\r\n",
    "\r\n",
    "\r\n",
    "data1=data1.sort_values(by=\"Medals\",ascending=False).head()\r\n",
    "\r\n",
    "data1.plot(x=\"Athlete\",y=\"Medals\",kind=\"bar\",figsize=(5,5))\r\n",
    "\r\n",
    "\r\n",
    "#  PHELPS, Michael       22\r\n",
    "#  LATYNINA, Larisa      18\r\n",
    "#  ANDRIANOV, Nikolay    15\r\n",
    "#  ONO, Takashi          13\r\n",
    "#  MANGIAROTTI, Edoardo  13\r\n"
   ],
   "outputs": [],
   "metadata": {}
  },
  {
   "cell_type": "markdown",
   "source": [
    "### 5. Which player has won most number Gold Medals of medals? (Top 5)"
   ],
   "metadata": {}
  },
  {
   "cell_type": "code",
   "execution_count": null,
   "source": [
    "import pandas as pd\r\n",
    "\r\n",
    "df=pd.read_csv(\"summer.csv\")\r\n",
    "\r\n",
    "data1=df[df[\"Medal\"]==\"Gold\"]\r\n",
    "\r\n",
    "list1=[]\r\n",
    "\r\n",
    "for ath in data1[\"Athlete\"].unique():\r\n",
    "  list1.append([ath,len(data1[data1[\"Athlete\"]==ath])])\r\n",
    "\r\n",
    "\r\n",
    "data2=pd.DataFrame(list1,columns=[\"Athlete\",\"freq\"])\r\n",
    "\r\n",
    "data2=data2.sort_values(by=\"freq\",ascending=False).head()\r\n",
    "\r\n",
    "data2.plot(x=\"Athlete\",y=\"freq\",kind=\"bar\",figsize=(5,5))\r\n",
    "\r\n",
    "\r\n",
    "\r\n",
    "# PHELPS, Michael \t18\r\n",
    "# LATYNINA, Larisa \t9\r\n",
    "# LEWIS, Carl \t    9\r\n",
    "# NURMI, Paavo \t    9\r\n",
    "# SPITZ, Mark \t    9"
   ],
   "outputs": [],
   "metadata": {}
  },
  {
   "cell_type": "markdown",
   "source": [
    "### 6. In which year India won first Gold Medal in Summer Olympics?"
   ],
   "metadata": {}
  },
  {
   "cell_type": "code",
   "execution_count": null,
   "source": [
    "import pandas as pd\r\n",
    "\r\n",
    "df=pd.read_csv(\"summer.csv\")\r\n",
    "\r\n",
    "data1=pd.DataFrame(df[df[\"Country\"]==\"IND\"])\r\n",
    "\r\n",
    "data1[data1[\"Medal\"]==\"Gold\"].head(1)\r\n",
    "\r\n",
    "# 1928"
   ],
   "outputs": [],
   "metadata": {}
  },
  {
   "cell_type": "markdown",
   "source": [
    "### 7. Which event is most popular in terms on number of players? (Top 5)"
   ],
   "metadata": {}
  },
  {
   "cell_type": "code",
   "execution_count": null,
   "source": [
    "import pandas as pd\r\n",
    "\r\n",
    "df=pd.read_csv(\"summer.csv\")\r\n",
    "\r\n",
    "list1=[]\r\n",
    "for eve in df[\"Event\"].unique():\r\n",
    "  list1.append([eve,len(df[df[\"Event\"]==eve])])\r\n",
    "\r\n",
    "data1=pd.DataFrame(list1,columns=[\"Event\",\"num\"])\r\n",
    "\r\n",
    "data1=data1.sort_values(by=\"num\",ascending=False).head()\r\n",
    "\r\n",
    "data1.plot(x=\"Event\",y=\"num\",kind=\"bar\",figsize=(5,5))\r\n",
    "\r\n",
    "\r\n",
    "\r\n",
    "# Football \t1497\r\n",
    "# Hockey \t1422\r\n",
    "# Team Competition \t1147\r\n",
    "# Basketball \t1012\r\n",
    "# Handball \t973"
   ],
   "outputs": [],
   "metadata": {}
  },
  {
   "cell_type": "markdown",
   "source": [
    "### 8. Which sport is having most female Gold Medalists? (Top 5)"
   ],
   "metadata": {}
  },
  {
   "cell_type": "code",
   "execution_count": null,
   "source": [
    "import pandas as pd\r\n",
    "\r\n",
    "df=pd.read_csv(\"summer.csv\")\r\n",
    "\r\n",
    "data1=pd.DataFrame(df[df[\"Gender\"]==\"Women\"]) \r\n",
    "\r\n",
    "data2=pd.DataFrame(data1[data1[\"Medal\"]==\"Gold\"]) \r\n",
    "\r\n",
    "list1=[]\r\n",
    "\r\n",
    "for sp in data2[\"Sport\"].unique():\r\n",
    "  list1.append([sp,len(data2[data2[\"Sport\"]==sp])])\r\n",
    "\r\n",
    "\r\n",
    "data3=pd.DataFrame(list1,columns=[\"Sport\",\"num\"])\r\n",
    "\r\n",
    "data3=data3.sort_values(by=\"num\",ascending=False).head()\r\n",
    "\r\n",
    "data3.plot(x=\"Sport\",y=\"num\",kind=\"bar\",figsize=(5,5))\r\n",
    "\r\n",
    "\r\n",
    "\r\n",
    "# Aquatics \t589\r\n",
    "# Athletics \t389\r\n",
    "# Gymnastics \t268\r\n",
    "# Rowing \t    217\r\n",
    "# Volleyball \t166"
   ],
   "outputs": [],
   "metadata": {}
  }
 ],
 "metadata": {
  "kernelspec": {
   "name": "python3",
   "display_name": "Python 3.9.6 64-bit"
  },
  "language_info": {
   "codemirror_mode": {
    "name": "ipython",
    "version": 2
   },
   "file_extension": ".py",
   "mimetype": "text/x-python",
   "name": "python",
   "nbconvert_exporter": "python",
   "pygments_lexer": "ipython2",
   "version": "3.9.6"
  },
  "interpreter": {
   "hash": "63fd5069d213b44bf678585dea6b12cceca9941eaf7f819626cde1f2670de90d"
  }
 },
 "nbformat": 4,
 "nbformat_minor": 2
}